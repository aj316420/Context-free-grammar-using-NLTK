{
 "cells": [
  {
   "cell_type": "code",
   "execution_count": 3,
   "metadata": {},
   "outputs": [],
   "source": [
    "import nltk\n",
    "from nltk.tokenize import word_tokenize\n",
    "from nltk.parse.generate import generate"
   ]
  },
  {
   "cell_type": "code",
   "execution_count": 4,
   "metadata": {},
   "outputs": [],
   "source": [
    "def cfg_parse(sentence):\n",
    "    sent_tk = nltk.pos_tag(word_tokenize(sentence))\n",
    "    for one in sent_tk:\n",
    "        if one[1] == 'NNP':\n",
    "            s_NP = \"\\'\" + one[0] + \"\\'\"\n",
    "        if one[1] == 'VBD' or one[1]=='VBN':\n",
    "            s_V = \"\\'\" + one[0] + \"\\'\"\n",
    "        if one[1] == 'NN':\n",
    "            s_N = \"\\'\" + one[0] + \"\\'\"\n",
    "        else:\n",
    "            pass\n",
    "    cfg_grammar2 = nltk.CFG.fromstring(\"\"\"\n",
    "    S -> NP VP \n",
    "    VP -> V N \n",
    "    NP -> {} \n",
    "    V -> {} \n",
    "    N -> {}\n",
    "    \"\"\".format(s_NP,s_V,s_N))\n",
    "    for sentence in generate(cfg_grammar2):\n",
    "        print(\" \".join(sentence))\n",
    "    return"
   ]
  },
  {
   "cell_type": "code",
   "execution_count": 18,
   "metadata": {},
   "outputs": [
    {
     "name": "stdout",
     "output_type": "stream",
     "text": [
      "Adam saw girl\n"
     ]
    }
   ],
   "source": [
    "cfg_parse(\"Adam saw a very pretty girl\")"
   ]
  }
 ],
 "metadata": {
  "kernelspec": {
   "display_name": "Python 3",
   "language": "python",
   "name": "python3"
  },
  "language_info": {
   "codemirror_mode": {
    "name": "ipython",
    "version": 3
   },
   "file_extension": ".py",
   "mimetype": "text/x-python",
   "name": "python",
   "nbconvert_exporter": "python",
   "pygments_lexer": "ipython3",
   "version": "3.7.3"
  }
 },
 "nbformat": 4,
 "nbformat_minor": 2
}
